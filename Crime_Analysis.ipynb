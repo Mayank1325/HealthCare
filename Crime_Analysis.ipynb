{
  "nbformat": 4,
  "nbformat_minor": 0,
  "metadata": {
    "colab": {
      "name": "Crime Analysis",
      "provenance": [],
      "authorship_tag": "ABX9TyM+3dvy1WfVsULn7KSL/8Zn",
      "include_colab_link": true
    },
    "kernelspec": {
      "name": "python3",
      "display_name": "Python 3"
    }
  },
  "cells": [
    {
      "cell_type": "markdown",
      "metadata": {
        "id": "view-in-github",
        "colab_type": "text"
      },
      "source": [
        "<a href=\"https://colab.research.google.com/github/Mayank1325/HealthCare/blob/main/Crime_Analysis.ipynb\" target=\"_parent\"><img src=\"https://colab.research.google.com/assets/colab-badge.svg\" alt=\"Open In Colab\"/></a>"
      ]
    },
    {
      "cell_type": "code",
      "metadata": {
        "id": "shiRJSkFQo15"
      },
      "source": [
        "import pandas as pd\n",
        "import matplotlib as plt\n",
        "import numpy as np"
      ],
      "execution_count": 1,
      "outputs": []
    },
    {
      "cell_type": "code",
      "metadata": {
        "id": "SzKSlBbOQ71a"
      },
      "source": [
        "df = pd.read_csv('/content/police_department_data.csv')"
      ],
      "execution_count": 2,
      "outputs": []
    },
    {
      "cell_type": "code",
      "metadata": {
        "colab": {
          "base_uri": "https://localhost:8080/",
          "height": 289
        },
        "id": "KwbAnO8WRLZU",
        "outputId": "9e299568-1b1b-468a-f67e-844484e1954e"
      },
      "source": [
        "df.head()"
      ],
      "execution_count": 3,
      "outputs": [
        {
          "output_type": "execute_result",
          "data": {
            "text/html": [
              "<div>\n",
              "<style scoped>\n",
              "    .dataframe tbody tr th:only-of-type {\n",
              "        vertical-align: middle;\n",
              "    }\n",
              "\n",
              "    .dataframe tbody tr th {\n",
              "        vertical-align: top;\n",
              "    }\n",
              "\n",
              "    .dataframe thead th {\n",
              "        text-align: right;\n",
              "    }\n",
              "</style>\n",
              "<table border=\"1\" class=\"dataframe\">\n",
              "  <thead>\n",
              "    <tr style=\"text-align: right;\">\n",
              "      <th></th>\n",
              "      <th>incident_id</th>\n",
              "      <th>category</th>\n",
              "      <th>crime_description</th>\n",
              "      <th>crime_date</th>\n",
              "      <th>department_district</th>\n",
              "      <th>resolution</th>\n",
              "      <th>address</th>\n",
              "      <th>department_id</th>\n",
              "      <th>location</th>\n",
              "    </tr>\n",
              "  </thead>\n",
              "  <tbody>\n",
              "    <tr>\n",
              "      <th>0</th>\n",
              "      <td>120058272</td>\n",
              "      <td>WEAPON LAWS</td>\n",
              "      <td>POSS OF PROHIBITED WEAPON</td>\n",
              "      <td>2016-01-29 11:00:00</td>\n",
              "      <td>SOUTHERN</td>\n",
              "      <td>ARREST, BOOKED</td>\n",
              "      <td>800 Block of BRYANT ST</td>\n",
              "      <td>1.200583e+13</td>\n",
              "      <td>(37.775420706711, -122.403404791479)</td>\n",
              "    </tr>\n",
              "    <tr>\n",
              "      <th>1</th>\n",
              "      <td>120058272</td>\n",
              "      <td>WEAPON LAWS</td>\n",
              "      <td>FIREARM, LOADED, IN VEHICLE, POSSESSION OR USE</td>\n",
              "      <td>2016-01-29 11:00:00</td>\n",
              "      <td>SOUTHERN</td>\n",
              "      <td>ARREST, BOOKED</td>\n",
              "      <td>800 Block of BRYANT ST</td>\n",
              "      <td>1.200583e+13</td>\n",
              "      <td>(37.775420706711, -122.403404791479)</td>\n",
              "    </tr>\n",
              "    <tr>\n",
              "      <th>2</th>\n",
              "      <td>141059263</td>\n",
              "      <td>WARRANTS</td>\n",
              "      <td>WARRANT ARREST</td>\n",
              "      <td>2016-04-25 14:59:00</td>\n",
              "      <td>BAYVIEW</td>\n",
              "      <td>ARREST, BOOKED</td>\n",
              "      <td>KEITH ST / SHAFTER AV</td>\n",
              "      <td>1.410593e+13</td>\n",
              "      <td>(37.7299809672996, -122.388856204292)</td>\n",
              "    </tr>\n",
              "    <tr>\n",
              "      <th>3</th>\n",
              "      <td>160013662</td>\n",
              "      <td>NON-CRIMINAL</td>\n",
              "      <td>LOST PROPERTY</td>\n",
              "      <td>2016-01-05 23:50:00</td>\n",
              "      <td>TENDERLOIN</td>\n",
              "      <td>NONE</td>\n",
              "      <td>JONES ST / OFARRELL ST</td>\n",
              "      <td>1.600137e+13</td>\n",
              "      <td>(37.7857883766888, -122.412970537591)</td>\n",
              "    </tr>\n",
              "    <tr>\n",
              "      <th>4</th>\n",
              "      <td>160002740</td>\n",
              "      <td>NON-CRIMINAL</td>\n",
              "      <td>LOST PROPERTY</td>\n",
              "      <td>2016-01-01 00:30:00</td>\n",
              "      <td>MISSION</td>\n",
              "      <td>NONE</td>\n",
              "      <td>16TH ST / MISSION ST</td>\n",
              "      <td>1.600027e+13</td>\n",
              "      <td>(37.7650501214668, -122.419671780296)</td>\n",
              "    </tr>\n",
              "  </tbody>\n",
              "</table>\n",
              "</div>"
            ],
            "text/plain": [
              "   incident_id  ...                               location\n",
              "0    120058272  ...   (37.775420706711, -122.403404791479)\n",
              "1    120058272  ...   (37.775420706711, -122.403404791479)\n",
              "2    141059263  ...  (37.7299809672996, -122.388856204292)\n",
              "3    160013662  ...  (37.7857883766888, -122.412970537591)\n",
              "4    160002740  ...  (37.7650501214668, -122.419671780296)\n",
              "\n",
              "[5 rows x 9 columns]"
            ]
          },
          "metadata": {
            "tags": []
          },
          "execution_count": 3
        }
      ]
    },
    {
      "cell_type": "code",
      "metadata": {
        "colab": {
          "base_uri": "https://localhost:8080/"
        },
        "id": "L-EynR-LtzMf",
        "outputId": "bccbc7df-2364-4944-f8a6-b963e996f922"
      },
      "source": [
        "df.isnull().any().sum()"
      ],
      "execution_count": 42,
      "outputs": [
        {
          "output_type": "execute_result",
          "data": {
            "text/plain": [
              "9"
            ]
          },
          "metadata": {
            "tags": []
          },
          "execution_count": 42
        }
      ]
    },
    {
      "cell_type": "code",
      "metadata": {
        "colab": {
          "base_uri": "https://localhost:8080/",
          "height": 830
        },
        "id": "1lpn7pWIt1rS",
        "outputId": "14f8e5bb-9377-4667-f431-1572a1dae267"
      },
      "source": [
        "df.drop_duplicates()"
      ],
      "execution_count": 43,
      "outputs": [
        {
          "output_type": "execute_result",
          "data": {
            "text/html": [
              "<div>\n",
              "<style scoped>\n",
              "    .dataframe tbody tr th:only-of-type {\n",
              "        vertical-align: middle;\n",
              "    }\n",
              "\n",
              "    .dataframe tbody tr th {\n",
              "        vertical-align: top;\n",
              "    }\n",
              "\n",
              "    .dataframe thead th {\n",
              "        text-align: right;\n",
              "    }\n",
              "</style>\n",
              "<table border=\"1\" class=\"dataframe\">\n",
              "  <thead>\n",
              "    <tr style=\"text-align: right;\">\n",
              "      <th></th>\n",
              "      <th>incident_id</th>\n",
              "      <th>category</th>\n",
              "      <th>crime_description</th>\n",
              "      <th>crime_date</th>\n",
              "      <th>department_district</th>\n",
              "      <th>resolution</th>\n",
              "      <th>address</th>\n",
              "      <th>department_id</th>\n",
              "      <th>location</th>\n",
              "      <th>year</th>\n",
              "      <th>month</th>\n",
              "      <th>day</th>\n",
              "    </tr>\n",
              "  </thead>\n",
              "  <tbody>\n",
              "    <tr>\n",
              "      <th>0</th>\n",
              "      <td>120058272</td>\n",
              "      <td>WEAPON LAWS</td>\n",
              "      <td>POSS OF PROHIBITED WEAPON</td>\n",
              "      <td>2016-01-29 11:00:00</td>\n",
              "      <td>SOUTHERN</td>\n",
              "      <td>ARREST, BOOKED</td>\n",
              "      <td>800 Block of BRYANT ST</td>\n",
              "      <td>1.200583e+13</td>\n",
              "      <td>(37.775420706711, -122.403404791479)</td>\n",
              "      <td>2016.0</td>\n",
              "      <td>1.0</td>\n",
              "      <td>29.0</td>\n",
              "    </tr>\n",
              "    <tr>\n",
              "      <th>1</th>\n",
              "      <td>120058272</td>\n",
              "      <td>WEAPON LAWS</td>\n",
              "      <td>FIREARM, LOADED, IN VEHICLE, POSSESSION OR USE</td>\n",
              "      <td>2016-01-29 11:00:00</td>\n",
              "      <td>SOUTHERN</td>\n",
              "      <td>ARREST, BOOKED</td>\n",
              "      <td>800 Block of BRYANT ST</td>\n",
              "      <td>1.200583e+13</td>\n",
              "      <td>(37.775420706711, -122.403404791479)</td>\n",
              "      <td>2016.0</td>\n",
              "      <td>1.0</td>\n",
              "      <td>29.0</td>\n",
              "    </tr>\n",
              "    <tr>\n",
              "      <th>2</th>\n",
              "      <td>141059263</td>\n",
              "      <td>WARRANTS</td>\n",
              "      <td>WARRANT ARREST</td>\n",
              "      <td>2016-04-25 14:59:00</td>\n",
              "      <td>BAYVIEW</td>\n",
              "      <td>ARREST, BOOKED</td>\n",
              "      <td>KEITH ST / SHAFTER AV</td>\n",
              "      <td>1.410593e+13</td>\n",
              "      <td>(37.7299809672996, -122.388856204292)</td>\n",
              "      <td>2016.0</td>\n",
              "      <td>4.0</td>\n",
              "      <td>25.0</td>\n",
              "    </tr>\n",
              "    <tr>\n",
              "      <th>3</th>\n",
              "      <td>160013662</td>\n",
              "      <td>NON-CRIMINAL</td>\n",
              "      <td>LOST PROPERTY</td>\n",
              "      <td>2016-01-05 23:50:00</td>\n",
              "      <td>TENDERLOIN</td>\n",
              "      <td>NONE</td>\n",
              "      <td>JONES ST / OFARRELL ST</td>\n",
              "      <td>1.600137e+13</td>\n",
              "      <td>(37.7857883766888, -122.412970537591)</td>\n",
              "      <td>2016.0</td>\n",
              "      <td>1.0</td>\n",
              "      <td>5.0</td>\n",
              "    </tr>\n",
              "    <tr>\n",
              "      <th>4</th>\n",
              "      <td>160002740</td>\n",
              "      <td>NON-CRIMINAL</td>\n",
              "      <td>LOST PROPERTY</td>\n",
              "      <td>2016-01-01 00:30:00</td>\n",
              "      <td>MISSION</td>\n",
              "      <td>NONE</td>\n",
              "      <td>16TH ST / MISSION ST</td>\n",
              "      <td>1.600027e+13</td>\n",
              "      <td>(37.7650501214668, -122.419671780296)</td>\n",
              "      <td>2016.0</td>\n",
              "      <td>1.0</td>\n",
              "      <td>1.0</td>\n",
              "    </tr>\n",
              "    <tr>\n",
              "      <th>...</th>\n",
              "      <td>...</td>\n",
              "      <td>...</td>\n",
              "      <td>...</td>\n",
              "      <td>...</td>\n",
              "      <td>...</td>\n",
              "      <td>...</td>\n",
              "      <td>...</td>\n",
              "      <td>...</td>\n",
              "      <td>...</td>\n",
              "      <td>...</td>\n",
              "      <td>...</td>\n",
              "      <td>...</td>\n",
              "    </tr>\n",
              "    <tr>\n",
              "      <th>12671</th>\n",
              "      <td>160346463</td>\n",
              "      <td>OTHER OFFENSES</td>\n",
              "      <td>TRAFFIC VIOLATION</td>\n",
              "      <td>2016-04-28 04:48:00</td>\n",
              "      <td>MISSION</td>\n",
              "      <td>ARREST, BOOKED</td>\n",
              "      <td>2000 Block of MISSION ST</td>\n",
              "      <td>1.603465e+13</td>\n",
              "      <td>(37.7642205603745, -122.41965834371)</td>\n",
              "      <td>2016.0</td>\n",
              "      <td>4.0</td>\n",
              "      <td>28.0</td>\n",
              "    </tr>\n",
              "    <tr>\n",
              "      <th>12672</th>\n",
              "      <td>161025006</td>\n",
              "      <td>NON-CRIMINAL</td>\n",
              "      <td>AIDED CASE, MENTAL DISTURBED</td>\n",
              "      <td>2016-12-17 22:20:00</td>\n",
              "      <td>RICHMOND</td>\n",
              "      <td>NONE</td>\n",
              "      <td>600 Block of 15TH AV</td>\n",
              "      <td>1.610250e+13</td>\n",
              "      <td>(37.7758455132356, -122.473560169469)</td>\n",
              "      <td>2016.0</td>\n",
              "      <td>12.0</td>\n",
              "      <td>17.0</td>\n",
              "    </tr>\n",
              "    <tr>\n",
              "      <th>12673</th>\n",
              "      <td>160346554</td>\n",
              "      <td>OTHER OFFENSES</td>\n",
              "      <td>INDECENT EXPOSURE</td>\n",
              "      <td>2016-04-28 06:47:00</td>\n",
              "      <td>NORTHERN</td>\n",
              "      <td>ARREST, BOOKED</td>\n",
              "      <td>3600 Block of BUCHANAN ST</td>\n",
              "      <td>1.603466e+13</td>\n",
              "      <td>(37.8035632063923, -122.433359859623)</td>\n",
              "      <td>2016.0</td>\n",
              "      <td>4.0</td>\n",
              "      <td>28.0</td>\n",
              "    </tr>\n",
              "    <tr>\n",
              "      <th>12674</th>\n",
              "      <td>160346560</td>\n",
              "      <td>DRUG/NARCOTIC</td>\n",
              "      <td>POSSESSION OF NARCOTICS PARAPHERNALIA</td>\n",
              "      <td>2016-04-28 07:13:00</td>\n",
              "      <td>PARK</td>\n",
              "      <td>ARREST, BOOKED</td>\n",
              "      <td>CASTRO ST / MARKET ST</td>\n",
              "      <td>1.603466e+13</td>\n",
              "      <td>(37.7626702770872, -122.435187699349)</td>\n",
              "      <td>2016.0</td>\n",
              "      <td>4.0</td>\n",
              "      <td>28.0</td>\n",
              "    </tr>\n",
              "    <tr>\n",
              "      <th>12675</th>\n",
              "      <td>160346560</td>\n",
              "      <td>LIQUOR LAWS</td>\n",
              "      <td>CONSUMING ALCOHOL IN</td>\n",
              "      <td>NaN</td>\n",
              "      <td>NaN</td>\n",
              "      <td>NaN</td>\n",
              "      <td>NaN</td>\n",
              "      <td>NaN</td>\n",
              "      <td>NaN</td>\n",
              "      <td>NaN</td>\n",
              "      <td>NaN</td>\n",
              "      <td>NaN</td>\n",
              "    </tr>\n",
              "  </tbody>\n",
              "</table>\n",
              "<p>12676 rows × 12 columns</p>\n",
              "</div>"
            ],
            "text/plain": [
              "       incident_id        category  ... month   day\n",
              "0        120058272     WEAPON LAWS  ...   1.0  29.0\n",
              "1        120058272     WEAPON LAWS  ...   1.0  29.0\n",
              "2        141059263        WARRANTS  ...   4.0  25.0\n",
              "3        160013662    NON-CRIMINAL  ...   1.0   5.0\n",
              "4        160002740    NON-CRIMINAL  ...   1.0   1.0\n",
              "...            ...             ...  ...   ...   ...\n",
              "12671    160346463  OTHER OFFENSES  ...   4.0  28.0\n",
              "12672    161025006    NON-CRIMINAL  ...  12.0  17.0\n",
              "12673    160346554  OTHER OFFENSES  ...   4.0  28.0\n",
              "12674    160346560   DRUG/NARCOTIC  ...   4.0  28.0\n",
              "12675    160346560     LIQUOR LAWS  ...   NaN   NaN\n",
              "\n",
              "[12676 rows x 12 columns]"
            ]
          },
          "metadata": {
            "tags": []
          },
          "execution_count": 43
        }
      ]
    },
    {
      "cell_type": "code",
      "metadata": {
        "colab": {
          "base_uri": "https://localhost:8080/"
        },
        "id": "fAIFEpaSROOn",
        "outputId": "a8e8cb34-38f0-46e9-a448-1c85e2a300b7"
      },
      "source": [
        "df.shape"
      ],
      "execution_count": 4,
      "outputs": [
        {
          "output_type": "execute_result",
          "data": {
            "text/plain": [
              "(12676, 9)"
            ]
          },
          "metadata": {
            "tags": []
          },
          "execution_count": 4
        }
      ]
    },
    {
      "cell_type": "code",
      "metadata": {
        "colab": {
          "base_uri": "https://localhost:8080/"
        },
        "id": "ay137_9pRQAX",
        "outputId": "d1f53526-c7d9-425e-fb98-dd3a40d020c2"
      },
      "source": [
        "df.info()"
      ],
      "execution_count": 5,
      "outputs": [
        {
          "output_type": "stream",
          "text": [
            "<class 'pandas.core.frame.DataFrame'>\n",
            "RangeIndex: 12676 entries, 0 to 12675\n",
            "Data columns (total 9 columns):\n",
            " #   Column               Non-Null Count  Dtype  \n",
            "---  ------               --------------  -----  \n",
            " 0   incident_id          12676 non-null  int64  \n",
            " 1   category             12676 non-null  object \n",
            " 2   crime_description    12676 non-null  object \n",
            " 3   crime_date           12675 non-null  object \n",
            " 4   department_district  12675 non-null  object \n",
            " 5   resolution           12675 non-null  object \n",
            " 6   address              12675 non-null  object \n",
            " 7   department_id        12675 non-null  float64\n",
            " 8   location             12675 non-null  object \n",
            "dtypes: float64(1), int64(1), object(7)\n",
            "memory usage: 891.4+ KB\n"
          ],
          "name": "stdout"
        }
      ]
    },
    {
      "cell_type": "code",
      "metadata": {
        "colab": {
          "base_uri": "https://localhost:8080/"
        },
        "id": "cF-TlxReRRoO",
        "outputId": "2a64a42e-68a4-4c31-84af-90aa740950cc"
      },
      "source": [
        "df.category.value_counts().iloc[:10]"
      ],
      "execution_count": 6,
      "outputs": [
        {
          "output_type": "execute_result",
          "data": {
            "text/plain": [
              "LARCENY/THEFT     1958\n",
              "OTHER OFFENSES    1898\n",
              "NON-CRIMINAL      1629\n",
              "ASSAULT           1405\n",
              "WARRANTS           700\n",
              "VEHICLE THEFT      669\n",
              "VANDALISM          598\n",
              "SUSPICIOUS OCC     569\n",
              "BURGLARY           567\n",
              "DRUG/NARCOTIC      491\n",
              "Name: category, dtype: int64"
            ]
          },
          "metadata": {
            "tags": []
          },
          "execution_count": 6
        }
      ]
    },
    {
      "cell_type": "code",
      "metadata": {
        "colab": {
          "base_uri": "https://localhost:8080/",
          "height": 282
        },
        "id": "Nx4chzJsRWCK",
        "outputId": "f8a16fa3-5bcd-421f-84da-4f8835a50bce"
      },
      "source": [
        "df.category.value_counts().iloc[:10].sort_values().plot(kind='barh')"
      ],
      "execution_count": 7,
      "outputs": [
        {
          "output_type": "execute_result",
          "data": {
            "text/plain": [
              "<matplotlib.axes._subplots.AxesSubplot at 0x7f25d5566dd8>"
            ]
          },
          "metadata": {
            "tags": []
          },
          "execution_count": 7
        },
        {
          "output_type": "display_data",
          "data": {
            "image/png": "[encoded data removed]",
            "text/plain": [
              "<Figure size 432x288 with 1 Axes>"
            ]
          },
          "metadata": {
            "tags": [],
            "needs_background": "light"
          }
        }
      ]
    },
    {
      "cell_type": "code",
      "metadata": {
        "id": "hTm6DuOKRZdz"
      },
      "source": [
        "larceny=df[df['category'].str.contains('LARCENY')]"
      ],
      "execution_count": 13,
      "outputs": []
    },
    {
      "cell_type": "code",
      "metadata": {
        "colab": {
          "base_uri": "https://localhost:8080/"
        },
        "id": "BGVTtbvnRiNb",
        "outputId": "dfe76ecd-8767-4f10-d34c-dfaef6a639c7"
      },
      "source": [
        "larceny.shape"
      ],
      "execution_count": 14,
      "outputs": [
        {
          "output_type": "execute_result",
          "data": {
            "text/plain": [
              "(1958, 9)"
            ]
          },
          "metadata": {
            "tags": []
          },
          "execution_count": 14
        }
      ]
    },
    {
      "cell_type": "code",
      "metadata": {
        "colab": {
          "base_uri": "https://localhost:8080/",
          "height": 289
        },
        "id": "Y3kWEeXXSMpL",
        "outputId": "e5a47259-41a1-42f5-e5e7-50c6a8ff9bc0"
      },
      "source": [
        "larceny.head()"
      ],
      "execution_count": 15,
      "outputs": [
        {
          "output_type": "execute_result",
          "data": {
            "text/html": [
              "<div>\n",
              "<style scoped>\n",
              "    .dataframe tbody tr th:only-of-type {\n",
              "        vertical-align: middle;\n",
              "    }\n",
              "\n",
              "    .dataframe tbody tr th {\n",
              "        vertical-align: top;\n",
              "    }\n",
              "\n",
              "    .dataframe thead th {\n",
              "        text-align: right;\n",
              "    }\n",
              "</style>\n",
              "<table border=\"1\" class=\"dataframe\">\n",
              "  <thead>\n",
              "    <tr style=\"text-align: right;\">\n",
              "      <th></th>\n",
              "      <th>incident_id</th>\n",
              "      <th>category</th>\n",
              "      <th>crime_description</th>\n",
              "      <th>crime_date</th>\n",
              "      <th>department_district</th>\n",
              "      <th>resolution</th>\n",
              "      <th>address</th>\n",
              "      <th>department_id</th>\n",
              "      <th>location</th>\n",
              "    </tr>\n",
              "  </thead>\n",
              "  <tbody>\n",
              "    <tr>\n",
              "      <th>10</th>\n",
              "      <td>160086863</td>\n",
              "      <td>LARCENY/THEFT</td>\n",
              "      <td>ATTEMPTED THEFT FROM LOCKED VEHICLE</td>\n",
              "      <td>2016-01-29 22:30:00</td>\n",
              "      <td>TARAVAL</td>\n",
              "      <td>NONE</td>\n",
              "      <td>1200 Block of 19TH AV</td>\n",
              "      <td>1.600869e+13</td>\n",
              "      <td>(37.7644781578695, -122.477376524003)</td>\n",
              "    </tr>\n",
              "    <tr>\n",
              "      <th>19</th>\n",
              "      <td>160004837</td>\n",
              "      <td>LARCENY/THEFT</td>\n",
              "      <td>PETTY THEFT SHOPLIFTING</td>\n",
              "      <td>2016-01-02 17:39:00</td>\n",
              "      <td>SOUTHERN</td>\n",
              "      <td>JUVENILE BOOKED</td>\n",
              "      <td>900 Block of MARKET ST</td>\n",
              "      <td>1.600048e+13</td>\n",
              "      <td>(37.7835699386918, -122.408421116922)</td>\n",
              "    </tr>\n",
              "    <tr>\n",
              "      <th>32</th>\n",
              "      <td>160138652</td>\n",
              "      <td>LARCENY/THEFT</td>\n",
              "      <td>PETTY THEFT SHOPLIFTING</td>\n",
              "      <td>2016-02-16 12:40:00</td>\n",
              "      <td>INGLESIDE</td>\n",
              "      <td>NONE</td>\n",
              "      <td>3300 Block of MISSION ST</td>\n",
              "      <td>1.601387e+13</td>\n",
              "      <td>(37.7435550542265, -122.421128029505)</td>\n",
              "    </tr>\n",
              "    <tr>\n",
              "      <th>42</th>\n",
              "      <td>160010505</td>\n",
              "      <td>LARCENY/THEFT</td>\n",
              "      <td>GRAND THEFT FROM LOCKED AUTO</td>\n",
              "      <td>2016-01-04 19:40:00</td>\n",
              "      <td>MISSION</td>\n",
              "      <td>NONE</td>\n",
              "      <td>2300 Block of 16TH ST</td>\n",
              "      <td>1.600105e+13</td>\n",
              "      <td>(37.7657184395282, -122.409529913278)</td>\n",
              "    </tr>\n",
              "    <tr>\n",
              "      <th>61</th>\n",
              "      <td>160012028</td>\n",
              "      <td>LARCENY/THEFT</td>\n",
              "      <td>GRAND THEFT FROM LOCKED AUTO</td>\n",
              "      <td>2016-01-05 14:00:00</td>\n",
              "      <td>PARK</td>\n",
              "      <td>NONE</td>\n",
              "      <td>DIVISADERO ST / HAYES ST</td>\n",
              "      <td>1.600120e+13</td>\n",
              "      <td>(37.7749912944366, -122.437799703468)</td>\n",
              "    </tr>\n",
              "  </tbody>\n",
              "</table>\n",
              "</div>"
            ],
            "text/plain": [
              "    incident_id  ...                               location\n",
              "10    160086863  ...  (37.7644781578695, -122.477376524003)\n",
              "19    160004837  ...  (37.7835699386918, -122.408421116922)\n",
              "32    160138652  ...  (37.7435550542265, -122.421128029505)\n",
              "42    160010505  ...  (37.7657184395282, -122.409529913278)\n",
              "61    160012028  ...  (37.7749912944366, -122.437799703468)\n",
              "\n",
              "[5 rows x 9 columns]"
            ]
          },
          "metadata": {
            "tags": []
          },
          "execution_count": 15
        }
      ]
    },
    {
      "cell_type": "code",
      "metadata": {
        "colab": {
          "base_uri": "https://localhost:8080/"
        },
        "id": "fUPlWBG4RvL-",
        "outputId": "0a0125ce-baf2-413e-e4d5-115fd8b80500"
      },
      "source": [
        "larceny.groupby('address').size().sort_values(ascending = False)"
      ],
      "execution_count": 16,
      "outputs": [
        {
          "output_type": "execute_result",
          "data": {
            "text/plain": [
              "address\n",
              "800 Block of MARKET ST          62\n",
              "800 Block of BRYANT ST          40\n",
              "100 Block of OFARRELL ST        18\n",
              "500 Block of JOHNFKENNEDY DR    18\n",
              "900 Block of MARKET ST          17\n",
              "                                ..\n",
              "6TH AV / LINCOLN WY              1\n",
              "6TH ST / BRYANT ST               1\n",
              "6TH ST / HARRISON ST             1\n",
              "6TH ST / MARKET ST               1\n",
              "3RD ST / MINNA ST                1\n",
              "Length: 1296, dtype: int64"
            ]
          },
          "metadata": {
            "tags": []
          },
          "execution_count": 16
        }
      ]
    },
    {
      "cell_type": "code",
      "metadata": {
        "colab": {
          "base_uri": "https://localhost:8080/"
        },
        "id": "N1g3ytD0Sl55",
        "outputId": "752fcb01-f71f-4833-f065-d2cdbc1af874"
      },
      "source": [
        "larceny.groupby('crime_description').size().sort_values(ascending = False)"
      ],
      "execution_count": 20,
      "outputs": [
        {
          "output_type": "execute_result",
          "data": {
            "text/plain": [
              "crime_description\n",
              "GRAND THEFT FROM LOCKED AUTO                               491\n",
              "PETTY THEFT FROM LOCKED AUTO                               367\n",
              "PETTY THEFT SHOPLIFTING                                    185\n",
              "PETTY THEFT FROM A BUILDING                                180\n",
              "GRAND THEFT FROM PERSON                                    159\n",
              "GRAND THEFT FROM A BUILDING                                113\n",
              "GRAND THEFT PICKPOCKET                                      94\n",
              "PETTY THEFT OF PROPERTY                                     75\n",
              "PETTY THEFT FROM UNLOCKED AUTO                              43\n",
              "PETTY THEFT BICYCLE                                         38\n",
              "GRAND THEFT FROM UNLOCKED AUTO                              33\n",
              "LOST PROPERTY, PETTY THEFT                                  23\n",
              "GRAND THEFT BICYCLE                                         22\n",
              "GRAND THEFT SHOPLIFTING                                     21\n",
              "GRAND THEFT OF PROPERTY                                     20\n",
              "ATTEMPTED THEFT FROM LOCKED VEHICLE                         18\n",
              "THEFT OF COMPUTERS OR CELL PHONES                           13\n",
              "THEFT FROM MERCHANT OR LIBRARY                              10\n",
              "LOST PROPERTY, GRAND THEFT                                   6\n",
              "THEFT OF CHECKS OR CREDIT CARDS                              6\n",
              "PETTY THEFT WITH PRIOR                                       5\n",
              "GRAND THEFT AUTO STRIP                                       4\n",
              "ATTEMPTED THEFT FROM UNLOCKED VEHICLE                        3\n",
              "EMBEZZLEMENT FROM DEPENDENT OR ELDER ADULT BY CARETAKER      3\n",
              "ATTEMPTED THEFT FROM A BUILDING                              3\n",
              "GRAND THEFT PURSESNATCH                                      3\n",
              "ATTEMPTED PETTY THEFT OF PROPERTY                            2\n",
              "LICENSE PLATE OR TAB, THEFT OF                               2\n",
              "ATTEMPTED AUTO STRIP                                         2\n",
              "PETTY THEFT AUTO STRIP                                       2\n",
              "PETTY THEFT COIN OPERATED MACHINE                            2\n",
              "THEFT, BICYCLE, <$50, NO SERIAL NUMBER                       2\n",
              "GRAND THEFT COIN OPERATED MACHINE                            1\n",
              "THEFT, DRUNK ROLL, <$50                                      1\n",
              "ATTEMPTED THEFT OF A BICYCLE                                 1\n",
              "THEFT, BICYCLE, <$50, SERIAL NUMBER KNOWN                    1\n",
              "THEFT, BOAT                                                  1\n",
              "ATTEMPTED SHOPLIFTING                                        1\n",
              "THEFT, DRUNK ROLL, $200-$400                                 1\n",
              "THEFT, GRAND, OF FIREARM                                     1\n",
              "dtype: int64"
            ]
          },
          "metadata": {
            "tags": []
          },
          "execution_count": 20
        }
      ]
    },
    {
      "cell_type": "code",
      "metadata": {
        "colab": {
          "base_uri": "https://localhost:8080/"
        },
        "id": "dE5RIC0pSzBP",
        "outputId": "6611be8d-c18b-45af-e656-93a690ca2a29"
      },
      "source": [
        "larceny.groupby('resolution').size().sort_values(ascending = False)"
      ],
      "execution_count": 22,
      "outputs": [
        {
          "output_type": "execute_result",
          "data": {
            "text/plain": [
              "resolution\n",
              "NONE                     1746\n",
              "ARREST, BOOKED            194\n",
              "JUVENILE BOOKED            13\n",
              "UNFOUNDED                   3\n",
              "EXCEPTIONAL CLEARANCE       1\n",
              "ARREST, CITED               1\n",
              "dtype: int64"
            ]
          },
          "metadata": {
            "tags": []
          },
          "execution_count": 22
        }
      ]
    },
    {
      "cell_type": "code",
      "metadata": {
        "colab": {
          "base_uri": "https://localhost:8080/",
          "height": 391
        },
        "id": "Kz5ejF7ZTsLI",
        "outputId": "d5103ef1-56c2-4e2e-b98f-e74c1cd2ade1"
      },
      "source": [
        "larceny['year'] = pd.DatetimeIndex(larceny['crime_date']).year\n",
        "larceny.head()"
      ],
      "execution_count": 28,
      "outputs": [
        {
          "output_type": "stream",
          "text": [
            "/usr/local/lib/python3.6/dist-packages/ipykernel_launcher.py:1: SettingWithCopyWarning: \n",
            "A value is trying to be set on a copy of a slice from a DataFrame.\n",
            "Try using .loc[row_indexer,col_indexer] = value instead\n",
            "\n",
            "See the caveats in the documentation: https://pandas.pydata.org/pandas-docs/stable/user_guide/indexing.html#returning-a-view-versus-a-copy\n",
            "  \"\"\"Entry point for launching an IPython kernel.\n"
          ],
          "name": "stderr"
        },
        {
          "output_type": "execute_result",
          "data": {
            "text/html": [
              "<div>\n",
              "<style scoped>\n",
              "    .dataframe tbody tr th:only-of-type {\n",
              "        vertical-align: middle;\n",
              "    }\n",
              "\n",
              "    .dataframe tbody tr th {\n",
              "        vertical-align: top;\n",
              "    }\n",
              "\n",
              "    .dataframe thead th {\n",
              "        text-align: right;\n",
              "    }\n",
              "</style>\n",
              "<table border=\"1\" class=\"dataframe\">\n",
              "  <thead>\n",
              "    <tr style=\"text-align: right;\">\n",
              "      <th></th>\n",
              "      <th>incident_id</th>\n",
              "      <th>category</th>\n",
              "      <th>crime_description</th>\n",
              "      <th>crime_date</th>\n",
              "      <th>department_district</th>\n",
              "      <th>resolution</th>\n",
              "      <th>address</th>\n",
              "      <th>department_id</th>\n",
              "      <th>location</th>\n",
              "      <th>year</th>\n",
              "    </tr>\n",
              "  </thead>\n",
              "  <tbody>\n",
              "    <tr>\n",
              "      <th>10</th>\n",
              "      <td>160086863</td>\n",
              "      <td>LARCENY/THEFT</td>\n",
              "      <td>ATTEMPTED THEFT FROM LOCKED VEHICLE</td>\n",
              "      <td>2016-01-29 22:30:00</td>\n",
              "      <td>TARAVAL</td>\n",
              "      <td>NONE</td>\n",
              "      <td>1200 Block of 19TH AV</td>\n",
              "      <td>1.600869e+13</td>\n",
              "      <td>(37.7644781578695, -122.477376524003)</td>\n",
              "      <td>2016</td>\n",
              "    </tr>\n",
              "    <tr>\n",
              "      <th>19</th>\n",
              "      <td>160004837</td>\n",
              "      <td>LARCENY/THEFT</td>\n",
              "      <td>PETTY THEFT SHOPLIFTING</td>\n",
              "      <td>2016-01-02 17:39:00</td>\n",
              "      <td>SOUTHERN</td>\n",
              "      <td>JUVENILE BOOKED</td>\n",
              "      <td>900 Block of MARKET ST</td>\n",
              "      <td>1.600048e+13</td>\n",
              "      <td>(37.7835699386918, -122.408421116922)</td>\n",
              "      <td>2016</td>\n",
              "    </tr>\n",
              "    <tr>\n",
              "      <th>32</th>\n",
              "      <td>160138652</td>\n",
              "      <td>LARCENY/THEFT</td>\n",
              "      <td>PETTY THEFT SHOPLIFTING</td>\n",
              "      <td>2016-02-16 12:40:00</td>\n",
              "      <td>INGLESIDE</td>\n",
              "      <td>NONE</td>\n",
              "      <td>3300 Block of MISSION ST</td>\n",
              "      <td>1.601387e+13</td>\n",
              "      <td>(37.7435550542265, -122.421128029505)</td>\n",
              "      <td>2016</td>\n",
              "    </tr>\n",
              "    <tr>\n",
              "      <th>42</th>\n",
              "      <td>160010505</td>\n",
              "      <td>LARCENY/THEFT</td>\n",
              "      <td>GRAND THEFT FROM LOCKED AUTO</td>\n",
              "      <td>2016-01-04 19:40:00</td>\n",
              "      <td>MISSION</td>\n",
              "      <td>NONE</td>\n",
              "      <td>2300 Block of 16TH ST</td>\n",
              "      <td>1.600105e+13</td>\n",
              "      <td>(37.7657184395282, -122.409529913278)</td>\n",
              "      <td>2016</td>\n",
              "    </tr>\n",
              "    <tr>\n",
              "      <th>61</th>\n",
              "      <td>160012028</td>\n",
              "      <td>LARCENY/THEFT</td>\n",
              "      <td>GRAND THEFT FROM LOCKED AUTO</td>\n",
              "      <td>2016-01-05 14:00:00</td>\n",
              "      <td>PARK</td>\n",
              "      <td>NONE</td>\n",
              "      <td>DIVISADERO ST / HAYES ST</td>\n",
              "      <td>1.600120e+13</td>\n",
              "      <td>(37.7749912944366, -122.437799703468)</td>\n",
              "      <td>2016</td>\n",
              "    </tr>\n",
              "  </tbody>\n",
              "</table>\n",
              "</div>"
            ],
            "text/plain": [
              "    incident_id       category  ...                               location  year\n",
              "10    160086863  LARCENY/THEFT  ...  (37.7644781578695, -122.477376524003)  2016\n",
              "19    160004837  LARCENY/THEFT  ...  (37.7835699386918, -122.408421116922)  2016\n",
              "32    160138652  LARCENY/THEFT  ...  (37.7435550542265, -122.421128029505)  2016\n",
              "42    160010505  LARCENY/THEFT  ...  (37.7657184395282, -122.409529913278)  2016\n",
              "61    160012028  LARCENY/THEFT  ...  (37.7749912944366, -122.437799703468)  2016\n",
              "\n",
              "[5 rows x 10 columns]"
            ]
          },
          "metadata": {
            "tags": []
          },
          "execution_count": 28
        }
      ]
    },
    {
      "cell_type": "code",
      "metadata": {
        "colab": {
          "base_uri": "https://localhost:8080/",
          "height": 462
        },
        "id": "gW1qSIwCeHVd",
        "outputId": "5d30886b-9ec1-469c-bf02-65c68e8c933e"
      },
      "source": [
        "larceny['month'] = pd.DatetimeIndex(larceny['crime_date']).month\n",
        "larceny.head()"
      ],
      "execution_count": 30,
      "outputs": [
        {
          "output_type": "stream",
          "text": [
            "/usr/local/lib/python3.6/dist-packages/ipykernel_launcher.py:1: SettingWithCopyWarning: \n",
            "A value is trying to be set on a copy of a slice from a DataFrame.\n",
            "Try using .loc[row_indexer,col_indexer] = value instead\n",
            "\n",
            "See the caveats in the documentation: https://pandas.pydata.org/pandas-docs/stable/user_guide/indexing.html#returning-a-view-versus-a-copy\n",
            "  \"\"\"Entry point for launching an IPython kernel.\n"
          ],
          "name": "stderr"
        },
        {
          "output_type": "execute_result",
          "data": {
            "text/html": [
              "<div>\n",
              "<style scoped>\n",
              "    .dataframe tbody tr th:only-of-type {\n",
              "        vertical-align: middle;\n",
              "    }\n",
              "\n",
              "    .dataframe tbody tr th {\n",
              "        vertical-align: top;\n",
              "    }\n",
              "\n",
              "    .dataframe thead th {\n",
              "        text-align: right;\n",
              "    }\n",
              "</style>\n",
              "<table border=\"1\" class=\"dataframe\">\n",
              "  <thead>\n",
              "    <tr style=\"text-align: right;\">\n",
              "      <th></th>\n",
              "      <th>incident_id</th>\n",
              "      <th>category</th>\n",
              "      <th>crime_description</th>\n",
              "      <th>crime_date</th>\n",
              "      <th>department_district</th>\n",
              "      <th>resolution</th>\n",
              "      <th>address</th>\n",
              "      <th>department_id</th>\n",
              "      <th>location</th>\n",
              "      <th>year</th>\n",
              "      <th>day</th>\n",
              "      <th>month</th>\n",
              "    </tr>\n",
              "  </thead>\n",
              "  <tbody>\n",
              "    <tr>\n",
              "      <th>10</th>\n",
              "      <td>160086863</td>\n",
              "      <td>LARCENY/THEFT</td>\n",
              "      <td>ATTEMPTED THEFT FROM LOCKED VEHICLE</td>\n",
              "      <td>2016-01-29 22:30:00</td>\n",
              "      <td>TARAVAL</td>\n",
              "      <td>NONE</td>\n",
              "      <td>1200 Block of 19TH AV</td>\n",
              "      <td>1.600869e+13</td>\n",
              "      <td>(37.7644781578695, -122.477376524003)</td>\n",
              "      <td>2016</td>\n",
              "      <td>29</td>\n",
              "      <td>1</td>\n",
              "    </tr>\n",
              "    <tr>\n",
              "      <th>19</th>\n",
              "      <td>160004837</td>\n",
              "      <td>LARCENY/THEFT</td>\n",
              "      <td>PETTY THEFT SHOPLIFTING</td>\n",
              "      <td>2016-01-02 17:39:00</td>\n",
              "      <td>SOUTHERN</td>\n",
              "      <td>JUVENILE BOOKED</td>\n",
              "      <td>900 Block of MARKET ST</td>\n",
              "      <td>1.600048e+13</td>\n",
              "      <td>(37.7835699386918, -122.408421116922)</td>\n",
              "      <td>2016</td>\n",
              "      <td>2</td>\n",
              "      <td>1</td>\n",
              "    </tr>\n",
              "    <tr>\n",
              "      <th>32</th>\n",
              "      <td>160138652</td>\n",
              "      <td>LARCENY/THEFT</td>\n",
              "      <td>PETTY THEFT SHOPLIFTING</td>\n",
              "      <td>2016-02-16 12:40:00</td>\n",
              "      <td>INGLESIDE</td>\n",
              "      <td>NONE</td>\n",
              "      <td>3300 Block of MISSION ST</td>\n",
              "      <td>1.601387e+13</td>\n",
              "      <td>(37.7435550542265, -122.421128029505)</td>\n",
              "      <td>2016</td>\n",
              "      <td>16</td>\n",
              "      <td>2</td>\n",
              "    </tr>\n",
              "    <tr>\n",
              "      <th>42</th>\n",
              "      <td>160010505</td>\n",
              "      <td>LARCENY/THEFT</td>\n",
              "      <td>GRAND THEFT FROM LOCKED AUTO</td>\n",
              "      <td>2016-01-04 19:40:00</td>\n",
              "      <td>MISSION</td>\n",
              "      <td>NONE</td>\n",
              "      <td>2300 Block of 16TH ST</td>\n",
              "      <td>1.600105e+13</td>\n",
              "      <td>(37.7657184395282, -122.409529913278)</td>\n",
              "      <td>2016</td>\n",
              "      <td>4</td>\n",
              "      <td>1</td>\n",
              "    </tr>\n",
              "    <tr>\n",
              "      <th>61</th>\n",
              "      <td>160012028</td>\n",
              "      <td>LARCENY/THEFT</td>\n",
              "      <td>GRAND THEFT FROM LOCKED AUTO</td>\n",
              "      <td>2016-01-05 14:00:00</td>\n",
              "      <td>PARK</td>\n",
              "      <td>NONE</td>\n",
              "      <td>DIVISADERO ST / HAYES ST</td>\n",
              "      <td>1.600120e+13</td>\n",
              "      <td>(37.7749912944366, -122.437799703468)</td>\n",
              "      <td>2016</td>\n",
              "      <td>5</td>\n",
              "      <td>1</td>\n",
              "    </tr>\n",
              "  </tbody>\n",
              "</table>\n",
              "</div>"
            ],
            "text/plain": [
              "    incident_id       category  ... day month\n",
              "10    160086863  LARCENY/THEFT  ...  29     1\n",
              "19    160004837  LARCENY/THEFT  ...   2     1\n",
              "32    160138652  LARCENY/THEFT  ...  16     2\n",
              "42    160010505  LARCENY/THEFT  ...   4     1\n",
              "61    160012028  LARCENY/THEFT  ...   5     1\n",
              "\n",
              "[5 rows x 12 columns]"
            ]
          },
          "metadata": {
            "tags": []
          },
          "execution_count": 30
        }
      ]
    },
    {
      "cell_type": "code",
      "metadata": {
        "colab": {
          "base_uri": "https://localhost:8080/",
          "height": 391
        },
        "id": "Y8UuSTakePYB",
        "outputId": "87ab72ac-a8b0-4178-e6fe-85236fb9cbed"
      },
      "source": [
        "larceny['day'] = pd.DatetimeIndex(larceny['crime_date']).day\n",
        "larceny.head()"
      ],
      "execution_count": 29,
      "outputs": [
        {
          "output_type": "stream",
          "text": [
            "/usr/local/lib/python3.6/dist-packages/ipykernel_launcher.py:1: SettingWithCopyWarning: \n",
            "A value is trying to be set on a copy of a slice from a DataFrame.\n",
            "Try using .loc[row_indexer,col_indexer] = value instead\n",
            "\n",
            "See the caveats in the documentation: https://pandas.pydata.org/pandas-docs/stable/user_guide/indexing.html#returning-a-view-versus-a-copy\n",
            "  \"\"\"Entry point for launching an IPython kernel.\n"
          ],
          "name": "stderr"
        },
        {
          "output_type": "execute_result",
          "data": {
            "text/html": [
              "<div>\n",
              "<style scoped>\n",
              "    .dataframe tbody tr th:only-of-type {\n",
              "        vertical-align: middle;\n",
              "    }\n",
              "\n",
              "    .dataframe tbody tr th {\n",
              "        vertical-align: top;\n",
              "    }\n",
              "\n",
              "    .dataframe thead th {\n",
              "        text-align: right;\n",
              "    }\n",
              "</style>\n",
              "<table border=\"1\" class=\"dataframe\">\n",
              "  <thead>\n",
              "    <tr style=\"text-align: right;\">\n",
              "      <th></th>\n",
              "      <th>incident_id</th>\n",
              "      <th>category</th>\n",
              "      <th>crime_description</th>\n",
              "      <th>crime_date</th>\n",
              "      <th>department_district</th>\n",
              "      <th>resolution</th>\n",
              "      <th>address</th>\n",
              "      <th>department_id</th>\n",
              "      <th>location</th>\n",
              "      <th>year</th>\n",
              "      <th>day</th>\n",
              "    </tr>\n",
              "  </thead>\n",
              "  <tbody>\n",
              "    <tr>\n",
              "      <th>10</th>\n",
              "      <td>160086863</td>\n",
              "      <td>LARCENY/THEFT</td>\n",
              "      <td>ATTEMPTED THEFT FROM LOCKED VEHICLE</td>\n",
              "      <td>2016-01-29 22:30:00</td>\n",
              "      <td>TARAVAL</td>\n",
              "      <td>NONE</td>\n",
              "      <td>1200 Block of 19TH AV</td>\n",
              "      <td>1.600869e+13</td>\n",
              "      <td>(37.7644781578695, -122.477376524003)</td>\n",
              "      <td>2016</td>\n",
              "      <td>29</td>\n",
              "    </tr>\n",
              "    <tr>\n",
              "      <th>19</th>\n",
              "      <td>160004837</td>\n",
              "      <td>LARCENY/THEFT</td>\n",
              "      <td>PETTY THEFT SHOPLIFTING</td>\n",
              "      <td>2016-01-02 17:39:00</td>\n",
              "      <td>SOUTHERN</td>\n",
              "      <td>JUVENILE BOOKED</td>\n",
              "      <td>900 Block of MARKET ST</td>\n",
              "      <td>1.600048e+13</td>\n",
              "      <td>(37.7835699386918, -122.408421116922)</td>\n",
              "      <td>2016</td>\n",
              "      <td>2</td>\n",
              "    </tr>\n",
              "    <tr>\n",
              "      <th>32</th>\n",
              "      <td>160138652</td>\n",
              "      <td>LARCENY/THEFT</td>\n",
              "      <td>PETTY THEFT SHOPLIFTING</td>\n",
              "      <td>2016-02-16 12:40:00</td>\n",
              "      <td>INGLESIDE</td>\n",
              "      <td>NONE</td>\n",
              "      <td>3300 Block of MISSION ST</td>\n",
              "      <td>1.601387e+13</td>\n",
              "      <td>(37.7435550542265, -122.421128029505)</td>\n",
              "      <td>2016</td>\n",
              "      <td>16</td>\n",
              "    </tr>\n",
              "    <tr>\n",
              "      <th>42</th>\n",
              "      <td>160010505</td>\n",
              "      <td>LARCENY/THEFT</td>\n",
              "      <td>GRAND THEFT FROM LOCKED AUTO</td>\n",
              "      <td>2016-01-04 19:40:00</td>\n",
              "      <td>MISSION</td>\n",
              "      <td>NONE</td>\n",
              "      <td>2300 Block of 16TH ST</td>\n",
              "      <td>1.600105e+13</td>\n",
              "      <td>(37.7657184395282, -122.409529913278)</td>\n",
              "      <td>2016</td>\n",
              "      <td>4</td>\n",
              "    </tr>\n",
              "    <tr>\n",
              "      <th>61</th>\n",
              "      <td>160012028</td>\n",
              "      <td>LARCENY/THEFT</td>\n",
              "      <td>GRAND THEFT FROM LOCKED AUTO</td>\n",
              "      <td>2016-01-05 14:00:00</td>\n",
              "      <td>PARK</td>\n",
              "      <td>NONE</td>\n",
              "      <td>DIVISADERO ST / HAYES ST</td>\n",
              "      <td>1.600120e+13</td>\n",
              "      <td>(37.7749912944366, -122.437799703468)</td>\n",
              "      <td>2016</td>\n",
              "      <td>5</td>\n",
              "    </tr>\n",
              "  </tbody>\n",
              "</table>\n",
              "</div>"
            ],
            "text/plain": [
              "    incident_id       category  ...  year day\n",
              "10    160086863  LARCENY/THEFT  ...  2016  29\n",
              "19    160004837  LARCENY/THEFT  ...  2016   2\n",
              "32    160138652  LARCENY/THEFT  ...  2016  16\n",
              "42    160010505  LARCENY/THEFT  ...  2016   4\n",
              "61    160012028  LARCENY/THEFT  ...  2016   5\n",
              "\n",
              "[5 rows x 11 columns]"
            ]
          },
          "metadata": {
            "tags": []
          },
          "execution_count": 29
        }
      ]
    },
    {
      "cell_type": "code",
      "metadata": {
        "colab": {
          "base_uri": "https://localhost:8080/"
        },
        "id": "lAbz2LkpeUJi",
        "outputId": "f9469b11-e99b-48ae-9286-6d3285671239"
      },
      "source": [
        "larceny.groupby('year').size().sort_values(ascending = False)"
      ],
      "execution_count": 31,
      "outputs": [
        {
          "output_type": "execute_result",
          "data": {
            "text/plain": [
              "year\n",
              "2016    1958\n",
              "dtype: int64"
            ]
          },
          "metadata": {
            "tags": []
          },
          "execution_count": 31
        }
      ]
    },
    {
      "cell_type": "code",
      "metadata": {
        "colab": {
          "base_uri": "https://localhost:8080/"
        },
        "id": "9YoUslNPegBh",
        "outputId": "ff308f2e-d4b1-40ef-f581-ec5902fbd478"
      },
      "source": [
        "larceny.groupby('month').size().sort_values(ascending = False)"
      ],
      "execution_count": 32,
      "outputs": [
        {
          "output_type": "execute_result",
          "data": {
            "text/plain": [
              "month\n",
              "3     564\n",
              "4     453\n",
              "2     427\n",
              "1     349\n",
              "7      31\n",
              "10     25\n",
              "9      24\n",
              "11     23\n",
              "5      18\n",
              "8      17\n",
              "12     16\n",
              "6      11\n",
              "dtype: int64"
            ]
          },
          "metadata": {
            "tags": []
          },
          "execution_count": 32
        }
      ]
    },
    {
      "cell_type": "code",
      "metadata": {
        "colab": {
          "base_uri": "https://localhost:8080/",
          "height": 299
        },
        "id": "f_2-ol9Ffn7B",
        "outputId": "903e2640-600a-45bf-900f-a2b9e07289d6"
      },
      "source": [
        "larceny.groupby('month').size().plot(kind = 'bar')"
      ],
      "execution_count": 35,
      "outputs": [
        {
          "output_type": "execute_result",
          "data": {
            "text/plain": [
              "<matplotlib.axes._subplots.AxesSubplot at 0x7f25cd0a97f0>"
            ]
          },
          "metadata": {
            "tags": []
          },
          "execution_count": 35
        },
        {
          "output_type": "display_data",
          "data": {
            "image/png": "[encoded data removed]",
            "text/plain": [
              "<Figure size 432x288 with 1 Axes>"
            ]
          },
          "metadata": {
            "tags": [],
            "needs_background": "light"
          }
        }
      ]
    },
    {
      "cell_type": "code",
      "metadata": {
        "colab": {
          "base_uri": "https://localhost:8080/"
        },
        "id": "vu4-tONVfVqT",
        "outputId": "56be441f-3415-413d-a34d-78fac0385d78"
      },
      "source": [
        "larceny.groupby('day').size().sort_values(ascending = False)"
      ],
      "execution_count": 33,
      "outputs": [
        {
          "output_type": "execute_result",
          "data": {
            "text/plain": [
              "day\n",
              "26    91\n",
              "23    87\n",
              "18    84\n",
              "11    78\n",
              "20    73\n",
              "16    72\n",
              "7     71\n",
              "22    70\n",
              "5     69\n",
              "17    69\n",
              "19    68\n",
              "8     68\n",
              "24    66\n",
              "29    66\n",
              "15    63\n",
              "2     62\n",
              "21    61\n",
              "14    61\n",
              "13    61\n",
              "1     59\n",
              "27    59\n",
              "10    57\n",
              "25    56\n",
              "3     56\n",
              "12    54\n",
              "30    54\n",
              "28    49\n",
              "9     48\n",
              "6     48\n",
              "4     46\n",
              "31    32\n",
              "dtype: int64"
            ]
          },
          "metadata": {
            "tags": []
          },
          "execution_count": 33
        }
      ]
    },
    {
      "cell_type": "code",
      "metadata": {
        "colab": {
          "base_uri": "https://localhost:8080/",
          "height": 299
        },
        "id": "IyoDwZleffGb",
        "outputId": "f0a56739-9dee-4367-f934-31061ecaea1a"
      },
      "source": [
        "larceny.groupby('day').size().plot(kind = 'bar')"
      ],
      "execution_count": 34,
      "outputs": [
        {
          "output_type": "execute_result",
          "data": {
            "text/plain": [
              "<matplotlib.axes._subplots.AxesSubplot at 0x7f25cd116e80>"
            ]
          },
          "metadata": {
            "tags": []
          },
          "execution_count": 34
        },
        {
          "output_type": "display_data",
          "data": {
            "image/png": "[encoded data removed]",
            "text/plain": [
              "<Figure size 432x288 with 1 Axes>"
            ]
          },
          "metadata": {
            "tags": [],
            "needs_background": "light"
          }
        }
      ]
    },
    {
      "cell_type": "code",
      "metadata": {
        "colab": {
          "base_uri": "https://localhost:8080/",
          "height": 462
        },
        "id": "bVMszUNgfYCJ",
        "outputId": "87e2d53e-1bbf-4d88-80a6-a65670b5235a"
      },
      "source": [
        "larceny['hour'] = pd.DatetimeIndex(larceny['crime_date']).hour\n",
        "larceny.head()"
      ],
      "execution_count": 36,
      "outputs": [
        {
          "output_type": "stream",
          "text": [
            "/usr/local/lib/python3.6/dist-packages/ipykernel_launcher.py:1: SettingWithCopyWarning: \n",
            "A value is trying to be set on a copy of a slice from a DataFrame.\n",
            "Try using .loc[row_indexer,col_indexer] = value instead\n",
            "\n",
            "See the caveats in the documentation: https://pandas.pydata.org/pandas-docs/stable/user_guide/indexing.html#returning-a-view-versus-a-copy\n",
            "  \"\"\"Entry point for launching an IPython kernel.\n"
          ],
          "name": "stderr"
        },
        {
          "output_type": "execute_result",
          "data": {
            "text/html": [
              "<div>\n",
              "<style scoped>\n",
              "    .dataframe tbody tr th:only-of-type {\n",
              "        vertical-align: middle;\n",
              "    }\n",
              "\n",
              "    .dataframe tbody tr th {\n",
              "        vertical-align: top;\n",
              "    }\n",
              "\n",
              "    .dataframe thead th {\n",
              "        text-align: right;\n",
              "    }\n",
              "</style>\n",
              "<table border=\"1\" class=\"dataframe\">\n",
              "  <thead>\n",
              "    <tr style=\"text-align: right;\">\n",
              "      <th></th>\n",
              "      <th>incident_id</th>\n",
              "      <th>category</th>\n",
              "      <th>crime_description</th>\n",
              "      <th>crime_date</th>\n",
              "      <th>department_district</th>\n",
              "      <th>resolution</th>\n",
              "      <th>address</th>\n",
              "      <th>department_id</th>\n",
              "      <th>location</th>\n",
              "      <th>year</th>\n",
              "      <th>day</th>\n",
              "      <th>month</th>\n",
              "      <th>hour</th>\n",
              "    </tr>\n",
              "  </thead>\n",
              "  <tbody>\n",
              "    <tr>\n",
              "      <th>10</th>\n",
              "      <td>160086863</td>\n",
              "      <td>LARCENY/THEFT</td>\n",
              "      <td>ATTEMPTED THEFT FROM LOCKED VEHICLE</td>\n",
              "      <td>2016-01-29 22:30:00</td>\n",
              "      <td>TARAVAL</td>\n",
              "      <td>NONE</td>\n",
              "      <td>1200 Block of 19TH AV</td>\n",
              "      <td>1.600869e+13</td>\n",
              "      <td>(37.7644781578695, -122.477376524003)</td>\n",
              "      <td>2016</td>\n",
              "      <td>29</td>\n",
              "      <td>1</td>\n",
              "      <td>22</td>\n",
              "    </tr>\n",
              "    <tr>\n",
              "      <th>19</th>\n",
              "      <td>160004837</td>\n",
              "      <td>LARCENY/THEFT</td>\n",
              "      <td>PETTY THEFT SHOPLIFTING</td>\n",
              "      <td>2016-01-02 17:39:00</td>\n",
              "      <td>SOUTHERN</td>\n",
              "      <td>JUVENILE BOOKED</td>\n",
              "      <td>900 Block of MARKET ST</td>\n",
              "      <td>1.600048e+13</td>\n",
              "      <td>(37.7835699386918, -122.408421116922)</td>\n",
              "      <td>2016</td>\n",
              "      <td>2</td>\n",
              "      <td>1</td>\n",
              "      <td>17</td>\n",
              "    </tr>\n",
              "    <tr>\n",
              "      <th>32</th>\n",
              "      <td>160138652</td>\n",
              "      <td>LARCENY/THEFT</td>\n",
              "      <td>PETTY THEFT SHOPLIFTING</td>\n",
              "      <td>2016-02-16 12:40:00</td>\n",
              "      <td>INGLESIDE</td>\n",
              "      <td>NONE</td>\n",
              "      <td>3300 Block of MISSION ST</td>\n",
              "      <td>1.601387e+13</td>\n",
              "      <td>(37.7435550542265, -122.421128029505)</td>\n",
              "      <td>2016</td>\n",
              "      <td>16</td>\n",
              "      <td>2</td>\n",
              "      <td>12</td>\n",
              "    </tr>\n",
              "    <tr>\n",
              "      <th>42</th>\n",
              "      <td>160010505</td>\n",
              "      <td>LARCENY/THEFT</td>\n",
              "      <td>GRAND THEFT FROM LOCKED AUTO</td>\n",
              "      <td>2016-01-04 19:40:00</td>\n",
              "      <td>MISSION</td>\n",
              "      <td>NONE</td>\n",
              "      <td>2300 Block of 16TH ST</td>\n",
              "      <td>1.600105e+13</td>\n",
              "      <td>(37.7657184395282, -122.409529913278)</td>\n",
              "      <td>2016</td>\n",
              "      <td>4</td>\n",
              "      <td>1</td>\n",
              "      <td>19</td>\n",
              "    </tr>\n",
              "    <tr>\n",
              "      <th>61</th>\n",
              "      <td>160012028</td>\n",
              "      <td>LARCENY/THEFT</td>\n",
              "      <td>GRAND THEFT FROM LOCKED AUTO</td>\n",
              "      <td>2016-01-05 14:00:00</td>\n",
              "      <td>PARK</td>\n",
              "      <td>NONE</td>\n",
              "      <td>DIVISADERO ST / HAYES ST</td>\n",
              "      <td>1.600120e+13</td>\n",
              "      <td>(37.7749912944366, -122.437799703468)</td>\n",
              "      <td>2016</td>\n",
              "      <td>5</td>\n",
              "      <td>1</td>\n",
              "      <td>14</td>\n",
              "    </tr>\n",
              "  </tbody>\n",
              "</table>\n",
              "</div>"
            ],
            "text/plain": [
              "    incident_id       category  ... month hour\n",
              "10    160086863  LARCENY/THEFT  ...     1   22\n",
              "19    160004837  LARCENY/THEFT  ...     1   17\n",
              "32    160138652  LARCENY/THEFT  ...     2   12\n",
              "42    160010505  LARCENY/THEFT  ...     1   19\n",
              "61    160012028  LARCENY/THEFT  ...     1   14\n",
              "\n",
              "[5 rows x 13 columns]"
            ]
          },
          "metadata": {
            "tags": []
          },
          "execution_count": 36
        }
      ]
    },
    {
      "cell_type": "code",
      "metadata": {
        "colab": {
          "base_uri": "https://localhost:8080/"
        },
        "id": "TGEBXufcf2_j",
        "outputId": "2092969d-f194-4fc3-f16c-13f318e4cda3"
      },
      "source": [
        "larceny.groupby('hour').size().sort_values(ascending = False)"
      ],
      "execution_count": 37,
      "outputs": [
        {
          "output_type": "execute_result",
          "data": {
            "text/plain": [
              "hour\n",
              "17    158\n",
              "19    148\n",
              "18    147\n",
              "15    139\n",
              "20    131\n",
              "12    131\n",
              "14    124\n",
              "16    123\n",
              "13    122\n",
              "11    112\n",
              "21     81\n",
              "10     81\n",
              "22     80\n",
              "9      63\n",
              "23     56\n",
              "8      55\n",
              "1      48\n",
              "0      45\n",
              "7      30\n",
              "5      23\n",
              "2      17\n",
              "6      16\n",
              "4      16\n",
              "3      12\n",
              "dtype: int64"
            ]
          },
          "metadata": {
            "tags": []
          },
          "execution_count": 37
        }
      ]
    },
    {
      "cell_type": "code",
      "metadata": {
        "colab": {
          "base_uri": "https://localhost:8080/",
          "height": 299
        },
        "id": "rUu1qQhyf9go",
        "outputId": "fe2d7d17-8631-4e7d-c7de-126e0928f16b"
      },
      "source": [
        "larceny.groupby('hour').size().plot(kind = 'bar')"
      ],
      "execution_count": 39,
      "outputs": [
        {
          "output_type": "execute_result",
          "data": {
            "text/plain": [
              "<matplotlib.axes._subplots.AxesSubplot at 0x7f25ccf92e10>"
            ]
          },
          "metadata": {
            "tags": []
          },
          "execution_count": 39
        },
        {
          "output_type": "display_data",
          "data": {
            "image/png": "[encoded data removed]",
            "text/plain": [
              "<Figure size 432x288 with 1 Axes>"
            ]
          },
          "metadata": {
            "tags": [],
            "needs_background": "light"
          }
        }
      ]
    },
    {
      "cell_type": "code",
      "metadata": {
        "id": "rVNP5hbIu1mL"
      },
      "source": [
        ""
      ],
      "execution_count": null,
      "outputs": []
    }
  ]
}